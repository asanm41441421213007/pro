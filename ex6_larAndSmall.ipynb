{
  "nbformat": 4,
  "nbformat_minor": 0,
  "metadata": {
    "colab": {
      "provenance": [],
      "authorship_tag": "ABX9TyP6ImplrM1X1Ov2rvbKbjak",
      "include_colab_link": true
    },
    "kernelspec": {
      "name": "python3",
      "display_name": "Python 3"
    },
    "language_info": {
      "name": "python"
    }
  },
  "cells": [
    {
      "cell_type": "markdown",
      "metadata": {
        "id": "view-in-github",
        "colab_type": "text"
      },
      "source": [
        "<a href=\"https://colab.research.google.com/github/hyrah-8/python/blob/main/ex6_larAndSmall.ipynb\" target=\"_parent\"><img src=\"https://colab.research.google.com/assets/colab-badge.svg\" alt=\"Open In Colab\"/></a>"
      ]
    },
    {
      "cell_type": "code",
      "execution_count": 3,
      "metadata": {
        "colab": {
          "base_uri": "https://localhost:8080/"
        },
        "id": "VlJ3m8088akh",
        "outputId": "b1c26704-72fc-4ef9-f0fe-f91f4b6dc3ed"
      },
      "outputs": [
        {
          "output_type": "stream",
          "name": "stdout",
          "text": [
            "enter the total number of list element:2\n",
            "enter the value of 1 element:1\n",
            "[1]\n",
            "enter the value of 1 element:2\n",
            "[1, 2]\n",
            "the smallest element in this listis: 1\n",
            "the largest element in this listis: 2\n"
          ]
        }
      ],
      "source": [
        "nlist=[]\n",
        "n=int(input(\"enter the total number of list element:\"))\n",
        "for i in range(1,n+1):\n",
        "  value=int(input(\"enter the value of %d element:\"%1))\n",
        "  nlist.append(value)\n",
        "  nlist.sort()\n",
        "  print(nlist)\n",
        "print(\"the smallest element in this listis:\",nlist[0])\n",
        "print(\"the largest element in this listis:\",nlist[n-1])\n"
      ]
    },
    {
      "cell_type": "code",
      "source": [
        "print(\"list is created in the name:list\")\n",
        "list=['p','e','r','m','i','t']\n",
        "print(\"list created\",list)\n",
        "print(\"list indexing\",list[0])\n",
        "print(\"list negative indexing\",list[-1])\n",
        "print(\"list slicing\",list[1:4])\n",
        "list=['p','e','r','m','i','t']\n",
        "print(\"given list\",list)\n",
        "list[0]=2\n",
        "print(\"list changing\",list)\n",
        "list=['p','e','r','m','i','t']\n",
        "print(\"given list\",list)\n",
        "list.append(['add','sub'])\n",
        "print(\"list appending\",list)\n",
        "list=['p','e','r','m','i','t']\n",
        "print(\"given list\",list)\n",
        "list.remove('p')\n",
        "print(\"list removing\",list)\n",
        "\n",
        "\n"
      ],
      "metadata": {
        "colab": {
          "base_uri": "https://localhost:8080/"
        },
        "id": "5XWEXpesD2DL",
        "outputId": "2e8ff2a3-39c3-4511-e525-59c57c0f13e2"
      },
      "execution_count": 4,
      "outputs": [
        {
          "output_type": "stream",
          "name": "stdout",
          "text": [
            "list is created in the name:list\n",
            "list created ['p', 'e', 'r', 'm', 'i', 't']\n",
            "list indexing p\n",
            "list negative indexing t\n",
            "list slicing ['e', 'r', 'm']\n",
            "given list ['p', 'e', 'r', 'm', 'i', 't']\n",
            "list changing [2, 'e', 'r', 'm', 'i', 't']\n",
            "given list ['p', 'e', 'r', 'm', 'i', 't']\n",
            "list appending ['p', 'e', 'r', 'm', 'i', 't', ['add', 'sub']]\n",
            "given list ['p', 'e', 'r', 'm', 'i', 't']\n",
            "list removing ['e', 'r', 'm', 'i', 't']\n"
          ]
        }
      ]
    }
  ]
}