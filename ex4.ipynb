{
  "nbformat": 4,
  "nbformat_minor": 0,
  "metadata": {
    "colab": {
      "provenance": [],
      "authorship_tag": "ABX9TyOYa/kthZn3cf024caKVUlX",
      "include_colab_link": true
    },
    "kernelspec": {
      "name": "python3",
      "display_name": "Python 3"
    },
    "language_info": {
      "name": "python"
    }
  },
  "cells": [
    {
      "cell_type": "markdown",
      "metadata": {
        "id": "view-in-github",
        "colab_type": "text"
      },
      "source": [
        "<a href=\"https://colab.research.google.com/github/hyrah-8/python/blob/main/ex4.ipynb\" target=\"_parent\"><img src=\"https://colab.research.google.com/assets/colab-badge.svg\" alt=\"Open In Colab\"/></a>"
      ]
    },
    {
      "cell_type": "code",
      "execution_count": null,
      "metadata": {
        "colab": {
          "base_uri": "https://localhost:8080/"
        },
        "id": "RRyM1BEOGl_1",
        "outputId": "1b46f141-6049-4c16-bbd0-6bd4f7dbfa6a"
      },
      "outputs": [
        {
          "output_type": "stream",
          "name": "stdout",
          "text": [
            "selection sort using python\n",
            "enter the size of list:\n",
            "5\n",
            "enter 5 number for the list:\n",
            "1\n",
            "2\n",
            "3\n",
            "6\n",
            "0\n",
            "\n",
            " sorted list is:\n",
            "0\n",
            "1\n",
            "2\n",
            "3\n",
            "6\n"
          ]
        }
      ],
      "source": [
        "print(\"selection sort using python\")\n",
        "nums=[]\n",
        "print(\"enter the size of list:\")\n",
        "tot=int(input())\n",
        "print(\"enter\",tot,\"number for the list:\")\n",
        "for i in range(tot):\n",
        "    nums.append(int(input()))\n",
        "for i in range(tot-1):\n",
        "    chk=0\n",
        "    small=nums[i]\n",
        "    for j in range(i+1,tot):\n",
        "        if small>nums[j]:\n",
        "            small=nums[j]\n",
        "            chk=chk+1\n",
        "            index=j\n",
        "    if chk!=0:\n",
        "      temp=nums[i]\n",
        "      nums[i]=small\n",
        "      nums[index]=temp\n",
        "print(\"\\n sorted list is:\")\n",
        "for i in range(tot):\n",
        "  print(nums[i])"
      ]
    },
    {
      "cell_type": "code",
      "source": [
        "print(\"insertion sort using python\")\n",
        "arr = []\n",
        "print(end=\"enter the size:\")\n",
        "arrSize = int(input())\n",
        "print(\"enter\" +str(arrSize)+ \"elemants:\")\n",
        "for i in range(arrSize):\n",
        "   arr.append(int(input()))\n",
        "for i in range(arrSize):\n",
        "  elem = arr[i]\n",
        "  if elem<arr[i-1]:\n",
        "    for j in range(i+1):\n",
        "      if elem<arr[j]:\n",
        "        index = j\n",
        "        for k in range(i, j, -1):\n",
        "           arr[k] = arr[k-1]\n",
        "        break\n",
        "  else:\n",
        "      continue\n",
        "  arr[index] = elem\n",
        "print(\"\\n the new(sorted)list is\")\n",
        "for i in range(arrSize):\n",
        "  print(end=str(arr[i])+\" \")\n",
        "print()"
      ],
      "metadata": {
        "id": "XwH3XlmJJAhn",
        "colab": {
          "base_uri": "https://localhost:8080/"
        },
        "outputId": "540ac0b2-5930-4e8f-bf4e-a1760aff061d"
      },
      "execution_count": 6,
      "outputs": [
        {
          "output_type": "stream",
          "name": "stdout",
          "text": [
            "insertion sort using python\n",
            "enter the size:3\n",
            "enter3elemants:\n",
            "5\n",
            "3\n",
            "1\n",
            "\n",
            " the new(sorted)list is\n",
            "1 3 5 \n"
          ]
        }
      ]
    }
  ]
}